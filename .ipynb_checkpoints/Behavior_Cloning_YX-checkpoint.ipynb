{
 "cells": [
  {
   "cell_type": "markdown",
   "metadata": {},
   "source": [
    "# GPU Test"
   ]
  },
  {
   "cell_type": "code",
   "execution_count": null,
   "metadata": {
    "collapsed": true
   },
   "outputs": [],
   "source": [
    "from tensorflow.python.client import device_lib\n",
    "print (device_lib.list_local_devices())\n",
    "import tensorflow as tf\n",
    "with tf.device('/gpu:0'):\n",
    "    a = tf.constant([1.0, 2.0, 3.0, 4.0, 5.0, 6.0], shape=[2, 3], name='a')\n",
    "    b = tf.constant([1.0, 2.0, 3.0, 4.0, 5.0, 6.0], shape=[3, 2], name='b')\n",
    "    c = tf.matmul(a, b)\n",
    "\n",
    "with tf.Session() as sess:\n",
    "    print (sess.run(c))"
   ]
  },
  {
   "cell_type": "markdown",
   "metadata": {},
   "source": [
    "# Read in Data"
   ]
  },
  {
   "cell_type": "code",
   "execution_count": 29,
   "metadata": {},
   "outputs": [],
   "source": [
    "import pandas as pd\n",
    "import numpy as np\n",
    "import csv\n",
    "from sklearn.model_selection import train_test_split\n",
    "\n",
    "\n",
    "path = './data/'\n",
    "\n",
    "lines =[]\n",
    "with open(path+'driving_log.csv') as csvfile:\n",
    "    reader = csv.reader(csvfile)\n",
    "    for line in reader:\n",
    "        lines.append(line)\n",
    "\n",
    "train_lines, validation_lines = train_test_split(lines[1:], test_size=0.2)\n",
    "\n",
    "#reader = pd.read_csv(path+'driving_log.csv')\n",
    "#column_center_images = reader.loc[: , \"center\"]\n",
    "#column_left_images = reader.loc[: , \"left\"]\n",
    "#column_right_images = reader.loc[: , \"right\"]\n",
    "#column_steering_angles = reader.loc[: , \"steering\"]\n",
    "#center_train, center_valid, left_train, left_valid, right_train, right_valid, steering_train, steering_valid =\\\n",
    "#train_test_split(column_center_images, column_left_images,\\\n",
    "#                   column_right_images, column_steering_angles, test_size=0.2)\n"
   ]
  },
  {
   "cell_type": "markdown",
   "metadata": {},
   "source": [
    "# OBsolete Code"
   ]
  },
  {
   "cell_type": "raw",
   "metadata": {},
   "source": [
    "from keras.models import Sequential\n",
    "from keras.layers.core import Dense, Activation, Flatten, Dropout, Lambda\n",
    "from keras.layers import Cropping2D\n",
    "from keras.layers.convolutional import Convolution2D\n",
    "from keras.layers.pooling import MaxPooling2D\n",
    "import matplotlib.pyplot as plt\n",
    "\n",
    "model = Sequential()\n",
    "model.add(Cropping2D(cropping=((50,20), (0,0)), input_shape=(160,320,3)))\n",
    "model.add(Lambda(lambda x: (x / 255.0) - 0.5, input_shape=(90,320,3)))\n",
    "model.add(Convolution2D(24, 5, 5, subsample=(2, 2,), border_mode='valid', activation='relu'))\n",
    "model.add(Convolution2D(36, 5, 5, subsample=(2, 2,), activation='relu'))\n",
    "model.add(Convolution2D(48, 5, 5, subsample=(2, 2,), activation='relu'))\n",
    "model.add(Convolution2D(64, 3, 3, subsample=(1, 1,), activation='relu'))\n",
    "model.add(Convolution2D(64, 3, 3, subsample=(1, 1,), activation='relu'))\n",
    "#model.add(MaxPooling2D((2, 2)))\n",
    "#model.add(Dropout(0.50))\n",
    "model.add(Flatten())\n",
    "model.add(Dense(100))\n",
    "model.add(Dense(50))\n",
    "model.add(Dense(10))\n",
    "model.add(Dense(1))\n",
    "#model.add(Activation('softmax'))\n",
    "\n",
    "model.compile(optimizer = 'adam', loss = 'mse', metrics = ['accuracy'])\n",
    "history_object = model.fit(X_train, y_train, nb_epoch=3, \\\n",
    "                    validation_split=0.2, shuffle =  True, verbose = 1)\n",
    "\n",
    "model.save('model.h5')\n",
    "\n",
    "### print the keys contained in the history object\n",
    "print(history_object.history.keys())\n",
    "### plot the training and validation loss for each epoch\n",
    "plt.plot(history_object.history['loss'])\n",
    "plt.plot(history_object.history['val_loss'])\n",
    "plt.title('model mean squared error loss')\n",
    "plt.ylabel('mean squared error loss')\n",
    "plt.xlabel('epoch')\n",
    "plt.legend(['training set', 'validation set'], loc='upper right')\n",
    "plt.show()\n",
    "\n",
    "print(\"Testing\")\n",
    "\n",
    "metrics = model.evaluate(X_train, y_train, verbose=1)\n",
    "for metric_i in range(len(model.metrics_names)):\n",
    "    metric_name = model.metrics_names[metric_i]\n",
    "    metric_value = metrics[metric_i]\n",
    "    print('{}: {}'.format(metric_name, metric_value))"
   ]
  },
  {
   "cell_type": "raw",
   "metadata": {},
   "source": [
    "import random\n",
    "\n",
    "index = random.randint(0, len(X_train))\n",
    "#index = 1\n",
    "print (\"Random Index is: \",index)\n",
    "image = X_train[index]\n",
    "\n",
    "predicted_steering_angle = model.predict(image[None, :, :, :], batch_size=1)\n",
    "true_steering_angle = column_steering_angles[index]\n",
    "print (\"Image is: \",column_center_images[index].split('/')[-1], \"Predicted Angle is: \",predicted_steering_angle[0][0],\" \\\n",
    "True Angle is: \",true_steering_angle)"
   ]
  },
  {
   "cell_type": "markdown",
   "metadata": {},
   "source": [
    "# Model Implementation"
   ]
  },
  {
   "cell_type": "code",
   "execution_count": 38,
   "metadata": {},
   "outputs": [
    {
     "name": "stdout",
     "output_type": "stream",
     "text": [
      "Epoch 1/10\n",
      "5444/5444 [==============================] - 18s - loss: 0.0527 - acc: 0.3703 - val_loss: 0.0477 - val_acc: 0.3724\n",
      "Epoch 2/10\n",
      "5444/5444 [==============================] - 16s - loss: 0.0394 - acc: 0.3733 - val_loss: 0.0451 - val_acc: 0.3724\n",
      "Epoch 3/10\n",
      "5444/5444 [==============================] - 16s - loss: 0.0366 - acc: 0.3733 - val_loss: 0.0435 - val_acc: 0.3724\n",
      "Epoch 4/10\n",
      "5444/5444 [==============================] - 16s - loss: 0.0346 - acc: 0.3733 - val_loss: 0.0413 - val_acc: 0.3724\n",
      "Epoch 5/10\n",
      "5444/5444 [==============================] - 16s - loss: 0.0331 - acc: 0.3731 - val_loss: 0.0410 - val_acc: 0.3724\n",
      "Epoch 6/10\n",
      "5444/5444 [==============================] - 16s - loss: 0.0321 - acc: 0.3731 - val_loss: 0.0392 - val_acc: 0.3724\n",
      "Epoch 7/10\n",
      "5444/5444 [==============================] - 16s - loss: 0.0308 - acc: 0.3733 - val_loss: 0.0380 - val_acc: 0.3724\n",
      "Epoch 8/10\n",
      "5444/5444 [==============================] - 16s - loss: 0.0302 - acc: 0.3733 - val_loss: 0.0370 - val_acc: 0.3724\n",
      "Epoch 9/10\n",
      "5444/5444 [==============================] - 16s - loss: 0.0287 - acc: 0.3733 - val_loss: 0.0412 - val_acc: 0.3710\n",
      "Epoch 10/10\n",
      "5444/5444 [==============================] - 16s - loss: 0.0268 - acc: 0.3731 - val_loss: 0.0383 - val_acc: 0.3717\n",
      "dict_keys(['val_loss', 'val_acc', 'loss', 'acc'])\n"
     ]
    },
    {
     "data": {
      "image/png": "[encoded data removed]",
      "text/plain": [
       "<matplotlib.figure.Figure at 0x1ceb6a63f60>"
      ]
     },
     "metadata": {},
     "output_type": "display_data"
    }
   ],
   "source": [
    "from keras.models import Sequential\n",
    "from keras.layers.core import Dense, Activation, Flatten, Dropout, Lambda\n",
    "from keras.layers import Cropping2D\n",
    "from keras.layers.convolutional import Convolution2D\n",
    "from keras.layers.pooling import MaxPooling2D\n",
    "import matplotlib.pyplot as plt\n",
    "import sklearn\n",
    "import cv2\n",
    "import os\n",
    "import sys\n",
    "\n",
    "steering_correction = 0.3\n",
    "\n",
    "def generator(samples, batch_size=32):\n",
    "    num_samples = len(samples)\n",
    "    #print (num_samples)\n",
    "    while 1: # Loop forever so the generator never terminates\n",
    "        sklearn.utils.shuffle(samples)\n",
    "        for offset in range(0, num_samples, batch_size):\n",
    "            batch_samples = samples[offset:offset+batch_size]\n",
    "            all_images = []\n",
    "            steering_measurements = []\n",
    "            for batch_sample in batch_samples:\n",
    "                #print (batch_sample)\n",
    "                filename = os.path.basename(batch_sample[0])\n",
    "                image = cv2.imread(path+'IMG/'+filename)\n",
    "                all_images.append(image)\n",
    "                all_images.append(cv2.flip(image,1))\n",
    "                measurement = float(batch_sample[3])\n",
    "                steering_measurements.append(measurement)\n",
    "                steering_measurements.append(measurement*-1.0)\n",
    "                filename = os.path.basename(batch_sample[1])\n",
    "                image = cv2.imread(path+'IMG/'+filename)\n",
    "                all_images.append(image)\n",
    "                filename = os.path.basename(batch_sample[2])\n",
    "                image = cv2.imread(path+'IMG/'+filename)\n",
    "                all_images.append(image)\n",
    "                steering_measurements.append(measurement+steering_correction)\n",
    "                steering_measurements.append(measurement-steering_correction)\n",
    "                #print(i, batch_size, offset, num_samples)\n",
    "            X_train = np.array(all_images)\n",
    "            y_train = np.array(steering_measurements)\n",
    "            yield sklearn.utils.shuffle(X_train, y_train)\n",
    "            \n",
    "# compile and train the model using the generator function\n",
    "train_generator = generator(train_lines, batch_size=32)\n",
    "validation_generator = generator(validation_lines, batch_size=32)\n",
    "\n",
    "model = Sequential()\n",
    "# Preprocess incoming data, centered around zero with small standard deviation \n",
    "model.add(Cropping2D(cropping=((50,20), (0,0)), input_shape=(160,320,3)))\n",
    "model.add(Lambda(lambda x: (x / 255.0) - 0.5, input_shape=(90,320,3)))\n",
    "model.add(Convolution2D(24, 5, 5, subsample=(2, 2,), border_mode='valid', activation='relu'))\n",
    "model.add(Convolution2D(36, 5, 5, subsample=(2, 2,), activation='relu'))\n",
    "model.add(Convolution2D(48, 5, 5, subsample=(2, 2,), activation='relu'))\n",
    "model.add(Convolution2D(64, 3, 3, subsample=(1, 1,), activation='relu'))\n",
    "model.add(Convolution2D(64, 3, 3, subsample=(1, 1,), activation='relu'))\n",
    "#model.add(MaxPooling2D((2, 2)))\n",
    "model.add(Flatten())\n",
    "model.add(Dense(100))\n",
    "model.add(Dropout(0.50))\n",
    "model.add(Dense(50))\n",
    "model.add(Dropout(0.50))\n",
    "model.add(Dense(10))\n",
    "model.add(Dropout(0.50))\n",
    "model.add(Dense(1))\n",
    "#model.add(Activation('softmax'))\n",
    "\n",
    "model.compile(loss='mse', optimizer='adam', metrics = ['accuracy'])\n",
    "history_object = model.fit_generator(train_generator, samples_per_epoch= 4*len(train_lines), \\\n",
    "                    validation_data=validation_generator, nb_val_samples= 4*len(validation_lines),\\\n",
    "                    nb_epoch=10, verbose = 1)\n",
    "model.save('model.h5')\n",
    "\n",
    "print(history_object.history.keys())\n",
    "### plot the training and validation loss for each epoch\n",
    "plt.plot(history_object.history['loss'])\n",
    "plt.plot(history_object.history['val_loss'])\n",
    "plt.title('model mean squared error loss')\n",
    "plt.ylabel('mean squared error loss')\n",
    "plt.xlabel('epoch')\n",
    "plt.legend(['training set', 'validation set'], loc='upper right')\n",
    "plt.show()"
   ]
  },
  {
   "cell_type": "code",
   "execution_count": null,
   "metadata": {
    "collapsed": true
   },
   "outputs": [],
   "source": []
  }
 ],
 "metadata": {
  "kernelspec": {
   "display_name": "Python 3",
   "language": "python",
   "name": "python3"
  },
  "language_info": {
   "codemirror_mode": {
    "name": "ipython",
    "version": 3
   },
   "file_extension": ".py",
   "mimetype": "text/x-python",
   "name": "python",
   "nbconvert_exporter": "python",
   "pygments_lexer": "ipython3",
   "version": "3.5.2"
  },
  "widgets": {
   "state": {},
   "version": "1.1.2"
  }
 },
 "nbformat": 4,
 "nbformat_minor": 2
}
